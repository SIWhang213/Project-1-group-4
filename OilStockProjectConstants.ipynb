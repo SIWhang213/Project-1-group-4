{
 "cells": [
  {
   "cell_type": "code",
   "execution_count": 7,
   "id": "dae8dc03",
   "metadata": {},
   "outputs": [],
   "source": [
    "CSV_FILE_PATH \\\n",
    "    = './Resources/OilCompanyMarketCapitalization.csv'\n",
    "\n",
    "CSV_COVID_FILE_PATH \\\n",
    "    = './Resources/COVIDDataFromOurWorldInData.csv'\n",
    "\n",
    "START_DATE \\\n",
    "    = '2020-01-01'\n",
    "\n",
    "END_DATE \\\n",
    "    = '2022-12-31'\n",
    "\n",
    "\n",
    "GENERAL_FORMAT \\\n",
    "    = '{:}'\n",
    "\n",
    "INTEGER_FORMAT \\\n",
    "    = '{:,}'\n",
    "\n",
    "FLOAT_FORMAT \\\n",
    "    = '{:,.2f}'\n",
    "\n",
    "FLOAT_AS_INTEGER_FORMAT \\\n",
    "    = '{:,.0f}'\n",
    "\n",
    "CURRENCY_INTEGER_FORMAT \\\n",
    "    = '$' + INTEGER_FORMAT\n",
    "\n",
    "CURRENCY_FLOAT_FORMAT \\\n",
    "    = '$' + FLOAT_FORMAT\n",
    "\n",
    "CURRENCY_FLOAT_AS_INTEGER_FORMAT \\\n",
    "    = '$' + FLOAT_AS_INTEGER_FORMAT\n",
    "\n",
    "PERCENT_FORMAT \\\n",
    "    = FLOAT_FORMAT + '%'"
   ]
  }
 ],
 "metadata": {
  "kernelspec": {
   "display_name": "Python 3 (ipykernel)",
   "language": "python",
   "name": "python3"
  },
  "language_info": {
   "codemirror_mode": {
    "name": "ipython",
    "version": 3
   },
   "file_extension": ".py",
   "mimetype": "text/x-python",
   "name": "python",
   "nbconvert_exporter": "python",
   "pygments_lexer": "ipython3",
   "version": "3.11.3"
  }
 },
 "nbformat": 4,
 "nbformat_minor": 5
}
